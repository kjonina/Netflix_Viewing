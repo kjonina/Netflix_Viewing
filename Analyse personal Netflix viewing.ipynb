{
 "cells": [
  {
   "cell_type": "markdown",
   "id": "55a18a90",
   "metadata": {},
   "source": [
    "## Analysing Personal \n",
    "\n",
    "https://www.dataquest.io/blog/python-tutorial-analyze-personal-netflix-data/"
   ]
  },
  {
   "cell_type": "code",
   "execution_count": 1,
   "id": "0c3e9011",
   "metadata": {},
   "outputs": [],
   "source": [
    "import pandas as pd\n",
    "import numpy as np\n",
    "import plotly.express as px\n",
    "from plotly.subplots import make_subplots\n",
    "import plotly.graph_objects as go"
   ]
  },
  {
   "cell_type": "code",
   "execution_count": 2,
   "id": "f93e9aad",
   "metadata": {},
   "outputs": [],
   "source": [
    "\n",
    "df = pd.read_csv('ViewingActivity.csv')"
   ]
  },
  {
   "cell_type": "code",
   "execution_count": 3,
   "id": "6c1f26f2",
   "metadata": {},
   "outputs": [
    {
     "data": {
      "text/plain": [
       "(24520, 10)"
      ]
     },
     "execution_count": 3,
     "metadata": {},
     "output_type": "execute_result"
    }
   ],
   "source": [
    "df.shape"
   ]
  },
  {
   "cell_type": "code",
   "execution_count": 4,
   "id": "34e9b32e",
   "metadata": {},
   "outputs": [
    {
     "data": {
      "text/html": [
       "<div>\n",
       "<style scoped>\n",
       "    .dataframe tbody tr th:only-of-type {\n",
       "        vertical-align: middle;\n",
       "    }\n",
       "\n",
       "    .dataframe tbody tr th {\n",
       "        vertical-align: top;\n",
       "    }\n",
       "\n",
       "    .dataframe thead th {\n",
       "        text-align: right;\n",
       "    }\n",
       "</style>\n",
       "<table border=\"1\" class=\"dataframe\">\n",
       "  <thead>\n",
       "    <tr style=\"text-align: right;\">\n",
       "      <th></th>\n",
       "      <th>Profile Name</th>\n",
       "      <th>Start Time</th>\n",
       "      <th>Duration</th>\n",
       "      <th>Attributes</th>\n",
       "      <th>Title</th>\n",
       "      <th>Supplemental Video Type</th>\n",
       "      <th>Device Type</th>\n",
       "      <th>Bookmark</th>\n",
       "      <th>Latest Bookmark</th>\n",
       "      <th>Country</th>\n",
       "    </tr>\n",
       "  </thead>\n",
       "  <tbody>\n",
       "    <tr>\n",
       "      <th>0</th>\n",
       "      <td>Karina</td>\n",
       "      <td>2024-02-24 19:17:21</td>\n",
       "      <td>00:03:42</td>\n",
       "      <td>NaN</td>\n",
       "      <td>Gilmore Girls: Season 4: Nag Hammadi Is Where ...</td>\n",
       "      <td>NaN</td>\n",
       "      <td>Android DefaultWidevineL3Phone Android Phone</td>\n",
       "      <td>00:04:24</td>\n",
       "      <td>00:04:24</td>\n",
       "      <td>NZ (New Zealand)</td>\n",
       "    </tr>\n",
       "    <tr>\n",
       "      <th>1</th>\n",
       "      <td>Karina</td>\n",
       "      <td>2024-02-24 18:34:32</td>\n",
       "      <td>00:42:48</td>\n",
       "      <td>NaN</td>\n",
       "      <td>Gilmore Girls: Season 4: A Family Matter (Epis...</td>\n",
       "      <td>NaN</td>\n",
       "      <td>Android DefaultWidevineL3Phone Android Phone</td>\n",
       "      <td>00:43:23</td>\n",
       "      <td>00:43:23</td>\n",
       "      <td>NZ (New Zealand)</td>\n",
       "    </tr>\n",
       "    <tr>\n",
       "      <th>2</th>\n",
       "      <td>Karina</td>\n",
       "      <td>2024-02-24 18:25:53</td>\n",
       "      <td>00:00:36</td>\n",
       "      <td>Autoplayed: user action: None;</td>\n",
       "      <td>Season 6 Teaser: Formula 1: Drive to Survive</td>\n",
       "      <td>TEASER_TRAILER</td>\n",
       "      <td>Chrome PC (Cadmium)</td>\n",
       "      <td>00:00:00</td>\n",
       "      <td>00:00:00</td>\n",
       "      <td>NZ (New Zealand)</td>\n",
       "    </tr>\n",
       "    <tr>\n",
       "      <th>3</th>\n",
       "      <td>Karina</td>\n",
       "      <td>2024-02-22 18:37:46</td>\n",
       "      <td>00:00:46</td>\n",
       "      <td>NaN</td>\n",
       "      <td>Gilmore Girls: Season 4: A Family Matter (Epis...</td>\n",
       "      <td>NaN</td>\n",
       "      <td>Android DefaultWidevineL3Phone Android Phone</td>\n",
       "      <td>00:00:46</td>\n",
       "      <td>Not latest view</td>\n",
       "      <td>NZ (New Zealand)</td>\n",
       "    </tr>\n",
       "    <tr>\n",
       "      <th>4</th>\n",
       "      <td>Karina</td>\n",
       "      <td>2024-02-22 18:06:46</td>\n",
       "      <td>00:30:56</td>\n",
       "      <td>NaN</td>\n",
       "      <td>Gilmore Girls: Season 4: In the Clamor and the...</td>\n",
       "      <td>NaN</td>\n",
       "      <td>Android DefaultWidevineL3Phone Android Phone</td>\n",
       "      <td>00:43:16</td>\n",
       "      <td>00:43:16</td>\n",
       "      <td>NZ (New Zealand)</td>\n",
       "    </tr>\n",
       "  </tbody>\n",
       "</table>\n",
       "</div>"
      ],
      "text/plain": [
       "  Profile Name           Start Time  Duration  \\\n",
       "0       Karina  2024-02-24 19:17:21  00:03:42   \n",
       "1       Karina  2024-02-24 18:34:32  00:42:48   \n",
       "2       Karina  2024-02-24 18:25:53  00:00:36   \n",
       "3       Karina  2024-02-22 18:37:46  00:00:46   \n",
       "4       Karina  2024-02-22 18:06:46  00:30:56   \n",
       "\n",
       "                        Attributes  \\\n",
       "0                              NaN   \n",
       "1                              NaN   \n",
       "2  Autoplayed: user action: None;    \n",
       "3                              NaN   \n",
       "4                              NaN   \n",
       "\n",
       "                                               Title Supplemental Video Type  \\\n",
       "0  Gilmore Girls: Season 4: Nag Hammadi Is Where ...                     NaN   \n",
       "1  Gilmore Girls: Season 4: A Family Matter (Epis...                     NaN   \n",
       "2       Season 6 Teaser: Formula 1: Drive to Survive          TEASER_TRAILER   \n",
       "3  Gilmore Girls: Season 4: A Family Matter (Epis...                     NaN   \n",
       "4  Gilmore Girls: Season 4: In the Clamor and the...                     NaN   \n",
       "\n",
       "                                    Device Type  Bookmark  Latest Bookmark  \\\n",
       "0  Android DefaultWidevineL3Phone Android Phone  00:04:24         00:04:24   \n",
       "1  Android DefaultWidevineL3Phone Android Phone  00:43:23         00:43:23   \n",
       "2                           Chrome PC (Cadmium)  00:00:00         00:00:00   \n",
       "3  Android DefaultWidevineL3Phone Android Phone  00:00:46  Not latest view   \n",
       "4  Android DefaultWidevineL3Phone Android Phone  00:43:16         00:43:16   \n",
       "\n",
       "            Country  \n",
       "0  NZ (New Zealand)  \n",
       "1  NZ (New Zealand)  \n",
       "2  NZ (New Zealand)  \n",
       "3  NZ (New Zealand)  \n",
       "4  NZ (New Zealand)  "
      ]
     },
     "execution_count": 4,
     "metadata": {},
     "output_type": "execute_result"
    }
   ],
   "source": [
    "df.head()"
   ]
  },
  {
   "cell_type": "markdown",
   "id": "4a3fa525",
   "metadata": {},
   "source": [
    "### Cleaning Data"
   ]
  },
  {
   "cell_type": "code",
   "execution_count": 5,
   "id": "91735ed9",
   "metadata": {},
   "outputs": [
    {
     "name": "stdout",
     "output_type": "stream",
     "text": [
      "Whose data would you like to analyse? Karina\n"
     ]
    }
   ],
   "source": [
    "# user puts in their name\n",
    "name = input('Whose data would you like to analyse? ').title()\n",
    "\n",
    "#filter by the user's name\n",
    "df = df[df['Profile Name'] == name]"
   ]
  },
  {
   "cell_type": "code",
   "execution_count": 6,
   "id": "150ef465",
   "metadata": {},
   "outputs": [
    {
     "name": "stdout",
     "output_type": "stream",
     "text": [
      "************************************************** \n",
      " PROFILE NAME \n",
      " ['Karina'] \n",
      "\n",
      "************************************************** \n",
      " START TIME \n",
      " ['2024-02-24 19:17:21' '2024-02-24 18:34:32' '2024-02-24 18:25:53' ...\n",
      " '2018-02-17 22:56:25' '2018-02-17 22:22:21' '2018-02-17 21:27:35'] \n",
      "\n",
      "************************************************** \n",
      " DURATION \n",
      " ['00:03:42' '00:42:48' '00:00:36' ... '00:53:50' '00:57:00' '00:54:42'] \n",
      "\n",
      "************************************************** \n",
      " ATTRIBUTES \n",
      " [nan 'Autoplayed: user action: None; '\n",
      " 'Autoplayed: user action: User_Interaction; '\n",
      " 'Autoplayed: user action: Unspecified; '] \n",
      "\n",
      "************************************************** \n",
      " TITLE \n",
      " ['Gilmore Girls: Season 4: Nag Hammadi Is Where They Found the Gnostic Gospels (Episode 13)'\n",
      " 'Gilmore Girls: Season 4: A Family Matter (Episode 12)'\n",
      " 'Season 6 Teaser: Formula 1: Drive to Survive' ...\n",
      " 'The Crown: Season 1: Windsor (Episode 3)'\n",
      " 'The Crown: Season 1: Hyde Park Corner (Episode 2)'\n",
      " 'The Crown: Season 1: Wolferton Splash (Episode 1)'] \n",
      "\n",
      "************************************************** \n",
      " SUPPLEMENTAL VIDEO TYPE \n",
      " [nan 'TEASER_TRAILER' 'TRAILER' 'HOOK' 'CINEMAGRAPH' 'RECAP' 'PROMOTIONAL'\n",
      " 'PREVIEW'] \n",
      "\n",
      "************************************************** \n",
      " DEVICE TYPE \n",
      " ['Android DefaultWidevineL3Phone Android Phone' 'Chrome PC (Cadmium)'\n",
      " 'Netflix Windows App - Cadmium Windows Mobile'\n",
      " 'Sony CE Sony Android TV 2020 M3 Smart TV'\n",
      " 'Netflix Firefox MAC (Cadmium) HTML 5'\n",
      " 'Sony Sony Android TV 2019 M3 Smart TV'\n",
      " 'Android DefaultWidevineL3Phone Android Phone (samsung_SM-J530YM)'] \n",
      "\n",
      "************************************************** \n",
      " BOOKMARK \n",
      " ['00:04:24' '00:43:23' '00:00:00' ... '00:38:35' '00:56:55' '00:59:38'] \n",
      "\n",
      "************************************************** \n",
      " LATEST BOOKMARK \n",
      " ['00:04:24' '00:43:23' '00:00:00' ... '00:57:13' '00:56:55' '00:59:38'] \n",
      "\n",
      "************************************************** \n",
      " COUNTRY \n",
      " ['NZ (New Zealand)' 'IE (Ireland)' 'NO (Norway)'] \n",
      "\n"
     ]
    }
   ],
   "source": [
    "for i in df.columns:\n",
    "    print('*'*50, '\\n',i.upper(), '\\n', df[i].unique(), '\\n')"
   ]
  },
  {
   "cell_type": "code",
   "execution_count": 7,
   "id": "b50a8fb4",
   "metadata": {},
   "outputs": [
    {
     "data": {
      "text/plain": [
       "array([nan, 'TEASER_TRAILER', 'TRAILER', 'HOOK', 'CINEMAGRAPH', 'RECAP',\n",
       "       'PROMOTIONAL', 'PREVIEW'], dtype=object)"
      ]
     },
     "execution_count": 7,
     "metadata": {},
     "output_type": "execute_result"
    }
   ],
   "source": [
    "df['Supplemental Video Type'].unique()"
   ]
  },
  {
   "cell_type": "code",
   "execution_count": 8,
   "id": "f1ec104e",
   "metadata": {},
   "outputs": [],
   "source": [
    "# Netflix data includes all the little trailers played so filtering out everything except for proper viewings\n",
    "df = df[df[ 'Supplemental Video Type'].isna()]"
   ]
  },
  {
   "cell_type": "markdown",
   "id": "f5252c96",
   "metadata": {},
   "source": [
    "### Dropping loads of boring columns"
   ]
  },
  {
   "cell_type": "code",
   "execution_count": 9,
   "id": "db5104ad",
   "metadata": {},
   "outputs": [
    {
     "data": {
      "text/html": [
       "<div>\n",
       "<style scoped>\n",
       "    .dataframe tbody tr th:only-of-type {\n",
       "        vertical-align: middle;\n",
       "    }\n",
       "\n",
       "    .dataframe tbody tr th {\n",
       "        vertical-align: top;\n",
       "    }\n",
       "\n",
       "    .dataframe thead th {\n",
       "        text-align: right;\n",
       "    }\n",
       "</style>\n",
       "<table border=\"1\" class=\"dataframe\">\n",
       "  <thead>\n",
       "    <tr style=\"text-align: right;\">\n",
       "      <th></th>\n",
       "      <th>Start Time</th>\n",
       "      <th>Duration</th>\n",
       "      <th>Title</th>\n",
       "    </tr>\n",
       "  </thead>\n",
       "  <tbody>\n",
       "    <tr>\n",
       "      <th>0</th>\n",
       "      <td>2024-02-24 19:17:21</td>\n",
       "      <td>00:03:42</td>\n",
       "      <td>Gilmore Girls: Season 4: Nag Hammadi Is Where ...</td>\n",
       "    </tr>\n",
       "  </tbody>\n",
       "</table>\n",
       "</div>"
      ],
      "text/plain": [
       "            Start Time  Duration  \\\n",
       "0  2024-02-24 19:17:21  00:03:42   \n",
       "\n",
       "                                               Title  \n",
       "0  Gilmore Girls: Season 4: Nag Hammadi Is Where ...  "
      ]
     },
     "execution_count": 9,
     "metadata": {},
     "output_type": "execute_result"
    }
   ],
   "source": [
    "df = df.drop(['Profile Name', 'Attributes', 'Supplemental Video Type', 'Device Type', 'Bookmark', 'Latest Bookmark', 'Country'], axis=1)\n",
    "df.head(1)"
   ]
  },
  {
   "cell_type": "code",
   "execution_count": 10,
   "id": "64c4295e",
   "metadata": {},
   "outputs": [
    {
     "data": {
      "text/plain": [
       "Start Time    object\n",
       "Duration      object\n",
       "Title         object\n",
       "dtype: object"
      ]
     },
     "execution_count": 10,
     "metadata": {},
     "output_type": "execute_result"
    }
   ],
   "source": [
    "df.dtypes"
   ]
  },
  {
   "cell_type": "code",
   "execution_count": null,
   "id": "11ace5b3",
   "metadata": {},
   "outputs": [],
   "source": []
  },
  {
   "cell_type": "markdown",
   "id": "766ce597",
   "metadata": {},
   "source": [
    "### Convert Start Time to datetime"
   ]
  },
  {
   "cell_type": "code",
   "execution_count": 11,
   "id": "69f76803",
   "metadata": {},
   "outputs": [
    {
     "data": {
      "text/plain": [
       "Start Time    datetime64[ns]\n",
       "Duration              object\n",
       "Title                 object\n",
       "dtype: object"
      ]
     },
     "execution_count": 11,
     "metadata": {},
     "output_type": "execute_result"
    }
   ],
   "source": [
    "df['Start Time'] = pd.to_datetime(df['Start Time']) # not setting a timezone\n",
    "# df['Start Time'] = pd.to_datetime(df['Start Time'], utc=True)\n",
    "df.dtypes"
   ]
  },
  {
   "cell_type": "code",
   "execution_count": 12,
   "id": "f71863f0",
   "metadata": {},
   "outputs": [],
   "source": [
    "# # change the Start Time column into the dataframe's index\n",
    "# df = df.set_index('Start Time')\n",
    "\n",
    "# # convert from UTC timezone to eastern time\n",
    "# df.index = df.index.tz_convert('US/Eastern')\n",
    "\n",
    "# # reset the index so that Start Time becomes a column again\n",
    "# df = df.reset_index()\n",
    "\n",
    "# #double-check that it worked\n",
    "# df.head(1)"
   ]
  },
  {
   "cell_type": "code",
   "execution_count": 13,
   "id": "adbaa082",
   "metadata": {},
   "outputs": [
    {
     "data": {
      "text/plain": [
       "Start Time     datetime64[ns]\n",
       "Duration      timedelta64[ns]\n",
       "Title                  object\n",
       "dtype: object"
      ]
     },
     "execution_count": 13,
     "metadata": {},
     "output_type": "execute_result"
    }
   ],
   "source": [
    "df['Duration'] = pd.to_timedelta(df['Duration'])\n",
    "df.dtypes"
   ]
  },
  {
   "cell_type": "markdown",
   "id": "aa06fa19",
   "metadata": {},
   "source": [
    "### Creating new variable from Title: Movie or Season?"
   ]
  },
  {
   "cell_type": "code",
   "execution_count": 14,
   "id": "35f7a961",
   "metadata": {},
   "outputs": [
    {
     "name": "stdout",
     "output_type": "stream",
     "text": [
      "               Start Time        Duration  \\\n",
      "0     2024-02-24 19:17:21 0 days 00:03:42   \n",
      "1     2024-02-24 18:34:32 0 days 00:42:48   \n",
      "3     2024-02-22 18:37:46 0 days 00:00:46   \n",
      "4     2024-02-22 18:06:46 0 days 00:30:56   \n",
      "5     2024-02-22 18:05:08 0 days 00:00:44   \n",
      "...                   ...             ...   \n",
      "16478 2018-02-18 00:25:30 0 days 00:56:25   \n",
      "16479 2018-02-17 23:28:28 0 days 00:57:00   \n",
      "16480 2018-02-17 22:56:25 0 days 00:31:03   \n",
      "16481 2018-02-17 22:22:21 0 days 00:28:27   \n",
      "16482 2018-02-17 21:27:35 0 days 00:54:42   \n",
      "\n",
      "                                                   Title     Type  \n",
      "0      Gilmore Girls: Season 4: Nag Hammadi Is Where ...  TV Show  \n",
      "1      Gilmore Girls: Season 4: A Family Matter (Epis...  TV Show  \n",
      "3      Gilmore Girls: Season 4: A Family Matter (Epis...  TV Show  \n",
      "4      Gilmore Girls: Season 4: In the Clamor and the...  TV Show  \n",
      "5      Gilmore Girls: Season 4: In the Clamor and the...  TV Show  \n",
      "...                                                  ...      ...  \n",
      "16478        The Crown: Season 1: Act of God (Episode 4)  TV Show  \n",
      "16479           The Crown: Season 1: Windsor (Episode 3)  TV Show  \n",
      "16480  The Crown: Season 1: Hyde Park Corner (Episode 2)  TV Show  \n",
      "16481  The Crown: Season 1: Hyde Park Corner (Episode 2)  TV Show  \n",
      "16482  The Crown: Season 1: Wolferton Splash (Episode 1)  TV Show  \n",
      "\n",
      "[14931 rows x 4 columns]\n"
     ]
    }
   ],
   "source": [
    "# Check if 'title' column contains 'seasons' and assign 'tv show' or 'movie' accordingly\n",
    "# update according to conditions\n",
    "df.loc[df['Title'].str.contains('Season'), 'Type'] = 'TV Show'\n",
    "# df['Type'] =  [df['Type'].fillna('Movie')]\n",
    "print(df)"
   ]
  },
  {
   "cell_type": "code",
   "execution_count": null,
   "id": "cdfbac8f",
   "metadata": {},
   "outputs": [],
   "source": []
  },
  {
   "cell_type": "code",
   "execution_count": null,
   "id": "e23a4134",
   "metadata": {},
   "outputs": [],
   "source": []
  },
  {
   "cell_type": "markdown",
   "id": "4750e833",
   "metadata": {},
   "source": [
    "### Splitting the df for  Movie and TV Show"
   ]
  },
  {
   "cell_type": "code",
   "execution_count": 15,
   "id": "42652562",
   "metadata": {},
   "outputs": [],
   "source": [
    "movie_df = df[df['Type'] == 'Movie']\n",
    "tvshow_df = df[df['Type'] == 'TV Show']"
   ]
  },
  {
   "cell_type": "code",
   "execution_count": 16,
   "id": "662ac36a",
   "metadata": {},
   "outputs": [
    {
     "data": {
      "text/html": [
       "<div>\n",
       "<style scoped>\n",
       "    .dataframe tbody tr th:only-of-type {\n",
       "        vertical-align: middle;\n",
       "    }\n",
       "\n",
       "    .dataframe tbody tr th {\n",
       "        vertical-align: top;\n",
       "    }\n",
       "\n",
       "    .dataframe thead th {\n",
       "        text-align: right;\n",
       "    }\n",
       "</style>\n",
       "<table border=\"1\" class=\"dataframe\">\n",
       "  <thead>\n",
       "    <tr style=\"text-align: right;\">\n",
       "      <th></th>\n",
       "      <th>Start Time</th>\n",
       "      <th>Duration</th>\n",
       "      <th>Title</th>\n",
       "      <th>Type</th>\n",
       "    </tr>\n",
       "  </thead>\n",
       "  <tbody>\n",
       "  </tbody>\n",
       "</table>\n",
       "</div>"
      ],
      "text/plain": [
       "Empty DataFrame\n",
       "Columns: [Start Time, Duration, Title, Type]\n",
       "Index: []"
      ]
     },
     "execution_count": 16,
     "metadata": {},
     "output_type": "execute_result"
    }
   ],
   "source": [
    "movie_df.head()"
   ]
  },
  {
   "cell_type": "code",
   "execution_count": 17,
   "id": "b8be6e10",
   "metadata": {},
   "outputs": [
    {
     "data": {
      "text/html": [
       "<div>\n",
       "<style scoped>\n",
       "    .dataframe tbody tr th:only-of-type {\n",
       "        vertical-align: middle;\n",
       "    }\n",
       "\n",
       "    .dataframe tbody tr th {\n",
       "        vertical-align: top;\n",
       "    }\n",
       "\n",
       "    .dataframe thead th {\n",
       "        text-align: right;\n",
       "    }\n",
       "</style>\n",
       "<table border=\"1\" class=\"dataframe\">\n",
       "  <thead>\n",
       "    <tr style=\"text-align: right;\">\n",
       "      <th></th>\n",
       "      <th>Start Time</th>\n",
       "      <th>Duration</th>\n",
       "      <th>Title</th>\n",
       "      <th>Type</th>\n",
       "    </tr>\n",
       "  </thead>\n",
       "  <tbody>\n",
       "    <tr>\n",
       "      <th>0</th>\n",
       "      <td>2024-02-24 19:17:21</td>\n",
       "      <td>0 days 00:03:42</td>\n",
       "      <td>Gilmore Girls: Season 4: Nag Hammadi Is Where ...</td>\n",
       "      <td>TV Show</td>\n",
       "    </tr>\n",
       "    <tr>\n",
       "      <th>1</th>\n",
       "      <td>2024-02-24 18:34:32</td>\n",
       "      <td>0 days 00:42:48</td>\n",
       "      <td>Gilmore Girls: Season 4: A Family Matter (Epis...</td>\n",
       "      <td>TV Show</td>\n",
       "    </tr>\n",
       "    <tr>\n",
       "      <th>3</th>\n",
       "      <td>2024-02-22 18:37:46</td>\n",
       "      <td>0 days 00:00:46</td>\n",
       "      <td>Gilmore Girls: Season 4: A Family Matter (Epis...</td>\n",
       "      <td>TV Show</td>\n",
       "    </tr>\n",
       "    <tr>\n",
       "      <th>4</th>\n",
       "      <td>2024-02-22 18:06:46</td>\n",
       "      <td>0 days 00:30:56</td>\n",
       "      <td>Gilmore Girls: Season 4: In the Clamor and the...</td>\n",
       "      <td>TV Show</td>\n",
       "    </tr>\n",
       "    <tr>\n",
       "      <th>5</th>\n",
       "      <td>2024-02-22 18:05:08</td>\n",
       "      <td>0 days 00:00:44</td>\n",
       "      <td>Gilmore Girls: Season 4: In the Clamor and the...</td>\n",
       "      <td>TV Show</td>\n",
       "    </tr>\n",
       "  </tbody>\n",
       "</table>\n",
       "</div>"
      ],
      "text/plain": [
       "           Start Time        Duration  \\\n",
       "0 2024-02-24 19:17:21 0 days 00:03:42   \n",
       "1 2024-02-24 18:34:32 0 days 00:42:48   \n",
       "3 2024-02-22 18:37:46 0 days 00:00:46   \n",
       "4 2024-02-22 18:06:46 0 days 00:30:56   \n",
       "5 2024-02-22 18:05:08 0 days 00:00:44   \n",
       "\n",
       "                                               Title     Type  \n",
       "0  Gilmore Girls: Season 4: Nag Hammadi Is Where ...  TV Show  \n",
       "1  Gilmore Girls: Season 4: A Family Matter (Epis...  TV Show  \n",
       "3  Gilmore Girls: Season 4: A Family Matter (Epis...  TV Show  \n",
       "4  Gilmore Girls: Season 4: In the Clamor and the...  TV Show  \n",
       "5  Gilmore Girls: Season 4: In the Clamor and the...  TV Show  "
      ]
     },
     "execution_count": 17,
     "metadata": {},
     "output_type": "execute_result"
    }
   ],
   "source": [
    "tvshow_df.head()"
   ]
  },
  {
   "cell_type": "code",
   "execution_count": null,
   "id": "91a50669",
   "metadata": {},
   "outputs": [],
   "source": []
  },
  {
   "cell_type": "code",
   "execution_count": null,
   "id": "1b51be39",
   "metadata": {},
   "outputs": [],
   "source": []
  },
  {
   "cell_type": "markdown",
   "id": "606476d0",
   "metadata": {},
   "source": [
    "## Cleaning the TV Shows Titles"
   ]
  },
  {
   "cell_type": "code",
   "execution_count": 18,
   "id": "669ad7aa",
   "metadata": {},
   "outputs": [
    {
     "data": {
      "text/html": [
       "<div>\n",
       "<style scoped>\n",
       "    .dataframe tbody tr th:only-of-type {\n",
       "        vertical-align: middle;\n",
       "    }\n",
       "\n",
       "    .dataframe tbody tr th {\n",
       "        vertical-align: top;\n",
       "    }\n",
       "\n",
       "    .dataframe thead th {\n",
       "        text-align: right;\n",
       "    }\n",
       "</style>\n",
       "<table border=\"1\" class=\"dataframe\">\n",
       "  <thead>\n",
       "    <tr style=\"text-align: right;\">\n",
       "      <th></th>\n",
       "      <th>Start Time</th>\n",
       "      <th>Duration</th>\n",
       "      <th>Title</th>\n",
       "    </tr>\n",
       "  </thead>\n",
       "  <tbody>\n",
       "    <tr>\n",
       "      <th>0</th>\n",
       "      <td>2024-02-24 19:17:21</td>\n",
       "      <td>0 days 00:03:42</td>\n",
       "      <td>Gilmore Girls: Season 4: Nag Hammadi Is Where ...</td>\n",
       "    </tr>\n",
       "    <tr>\n",
       "      <th>1</th>\n",
       "      <td>2024-02-24 18:34:32</td>\n",
       "      <td>0 days 00:42:48</td>\n",
       "      <td>Gilmore Girls: Season 4: A Family Matter (Epis...</td>\n",
       "    </tr>\n",
       "    <tr>\n",
       "      <th>3</th>\n",
       "      <td>2024-02-22 18:37:46</td>\n",
       "      <td>0 days 00:00:46</td>\n",
       "      <td>Gilmore Girls: Season 4: A Family Matter (Epis...</td>\n",
       "    </tr>\n",
       "    <tr>\n",
       "      <th>4</th>\n",
       "      <td>2024-02-22 18:06:46</td>\n",
       "      <td>0 days 00:30:56</td>\n",
       "      <td>Gilmore Girls: Season 4: In the Clamor and the...</td>\n",
       "    </tr>\n",
       "    <tr>\n",
       "      <th>5</th>\n",
       "      <td>2024-02-22 18:05:08</td>\n",
       "      <td>0 days 00:00:44</td>\n",
       "      <td>Gilmore Girls: Season 4: In the Clamor and the...</td>\n",
       "    </tr>\n",
       "    <tr>\n",
       "      <th>...</th>\n",
       "      <td>...</td>\n",
       "      <td>...</td>\n",
       "      <td>...</td>\n",
       "    </tr>\n",
       "    <tr>\n",
       "      <th>16478</th>\n",
       "      <td>2018-02-18 00:25:30</td>\n",
       "      <td>0 days 00:56:25</td>\n",
       "      <td>The Crown: Season 1: Act of God (Episode 4)</td>\n",
       "    </tr>\n",
       "    <tr>\n",
       "      <th>16479</th>\n",
       "      <td>2018-02-17 23:28:28</td>\n",
       "      <td>0 days 00:57:00</td>\n",
       "      <td>The Crown: Season 1: Windsor (Episode 3)</td>\n",
       "    </tr>\n",
       "    <tr>\n",
       "      <th>16480</th>\n",
       "      <td>2018-02-17 22:56:25</td>\n",
       "      <td>0 days 00:31:03</td>\n",
       "      <td>The Crown: Season 1: Hyde Park Corner (Episode 2)</td>\n",
       "    </tr>\n",
       "    <tr>\n",
       "      <th>16481</th>\n",
       "      <td>2018-02-17 22:22:21</td>\n",
       "      <td>0 days 00:28:27</td>\n",
       "      <td>The Crown: Season 1: Hyde Park Corner (Episode 2)</td>\n",
       "    </tr>\n",
       "    <tr>\n",
       "      <th>16482</th>\n",
       "      <td>2018-02-17 21:27:35</td>\n",
       "      <td>0 days 00:54:42</td>\n",
       "      <td>The Crown: Season 1: Wolferton Splash (Episode 1)</td>\n",
       "    </tr>\n",
       "  </tbody>\n",
       "</table>\n",
       "<p>12308 rows × 3 columns</p>\n",
       "</div>"
      ],
      "text/plain": [
       "               Start Time        Duration  \\\n",
       "0     2024-02-24 19:17:21 0 days 00:03:42   \n",
       "1     2024-02-24 18:34:32 0 days 00:42:48   \n",
       "3     2024-02-22 18:37:46 0 days 00:00:46   \n",
       "4     2024-02-22 18:06:46 0 days 00:30:56   \n",
       "5     2024-02-22 18:05:08 0 days 00:00:44   \n",
       "...                   ...             ...   \n",
       "16478 2018-02-18 00:25:30 0 days 00:56:25   \n",
       "16479 2018-02-17 23:28:28 0 days 00:57:00   \n",
       "16480 2018-02-17 22:56:25 0 days 00:31:03   \n",
       "16481 2018-02-17 22:22:21 0 days 00:28:27   \n",
       "16482 2018-02-17 21:27:35 0 days 00:54:42   \n",
       "\n",
       "                                                   Title  \n",
       "0      Gilmore Girls: Season 4: Nag Hammadi Is Where ...  \n",
       "1      Gilmore Girls: Season 4: A Family Matter (Epis...  \n",
       "3      Gilmore Girls: Season 4: A Family Matter (Epis...  \n",
       "4      Gilmore Girls: Season 4: In the Clamor and the...  \n",
       "5      Gilmore Girls: Season 4: In the Clamor and the...  \n",
       "...                                                  ...  \n",
       "16478        The Crown: Season 1: Act of God (Episode 4)  \n",
       "16479           The Crown: Season 1: Windsor (Episode 3)  \n",
       "16480  The Crown: Season 1: Hyde Park Corner (Episode 2)  \n",
       "16481  The Crown: Season 1: Hyde Park Corner (Episode 2)  \n",
       "16482  The Crown: Season 1: Wolferton Splash (Episode 1)  \n",
       "\n",
       "[12308 rows x 3 columns]"
      ]
     },
     "execution_count": 18,
     "metadata": {},
     "output_type": "execute_result"
    }
   ],
   "source": [
    "# dropping Type from columns\n",
    "tvshow_df = tvshow_df[[\n",
    "    'Start Time',\n",
    "    'Duration',\n",
    "    'Title'\n",
    "]]\n",
    "\n",
    "tvshow_df"
   ]
  },
  {
   "cell_type": "code",
   "execution_count": 19,
   "id": "727c5c03",
   "metadata": {},
   "outputs": [],
   "source": [
    "#stripping out the title \n",
    "# all titles include name of the episode:\n",
    "# 'Gilmore Girls: Season 4: Nag Hammadi Is Where...'\n",
    "\n",
    "tvshow_df['Title'] = tvshow_df['Title'].str.split(':', n=1).str[0]"
   ]
  },
  {
   "cell_type": "code",
   "execution_count": 20,
   "id": "68892814",
   "metadata": {},
   "outputs": [
    {
     "data": {
      "text/html": [
       "<div>\n",
       "<style scoped>\n",
       "    .dataframe tbody tr th:only-of-type {\n",
       "        vertical-align: middle;\n",
       "    }\n",
       "\n",
       "    .dataframe tbody tr th {\n",
       "        vertical-align: top;\n",
       "    }\n",
       "\n",
       "    .dataframe thead th {\n",
       "        text-align: right;\n",
       "    }\n",
       "</style>\n",
       "<table border=\"1\" class=\"dataframe\">\n",
       "  <thead>\n",
       "    <tr style=\"text-align: right;\">\n",
       "      <th></th>\n",
       "      <th>Title</th>\n",
       "      <th>Year</th>\n",
       "      <th>Duration</th>\n",
       "    </tr>\n",
       "  </thead>\n",
       "  <tbody>\n",
       "    <tr>\n",
       "      <th>0</th>\n",
       "      <td>(Un)Well</td>\n",
       "      <td>2020</td>\n",
       "      <td>0 days 02:51:02</td>\n",
       "    </tr>\n",
       "    <tr>\n",
       "      <th>1</th>\n",
       "      <td>13 Reasons Why</td>\n",
       "      <td>2018</td>\n",
       "      <td>1 days 09:54:19</td>\n",
       "    </tr>\n",
       "    <tr>\n",
       "      <th>2</th>\n",
       "      <td>13 Reasons Why</td>\n",
       "      <td>2019</td>\n",
       "      <td>0 days 03:24:37</td>\n",
       "    </tr>\n",
       "    <tr>\n",
       "      <th>3</th>\n",
       "      <td>13 Reasons Why</td>\n",
       "      <td>2020</td>\n",
       "      <td>0 days 00:13:04</td>\n",
       "    </tr>\n",
       "    <tr>\n",
       "      <th>4</th>\n",
       "      <td>13 Reasons Why</td>\n",
       "      <td>2021</td>\n",
       "      <td>0 days 06:05:30</td>\n",
       "    </tr>\n",
       "    <tr>\n",
       "      <th>...</th>\n",
       "      <td>...</td>\n",
       "      <td>...</td>\n",
       "      <td>...</td>\n",
       "    </tr>\n",
       "    <tr>\n",
       "      <th>208</th>\n",
       "      <td>iZombie</td>\n",
       "      <td>2018</td>\n",
       "      <td>2 days 12:09:12</td>\n",
       "    </tr>\n",
       "    <tr>\n",
       "      <th>209</th>\n",
       "      <td>iZombie</td>\n",
       "      <td>2019</td>\n",
       "      <td>0 days 10:15:11</td>\n",
       "    </tr>\n",
       "    <tr>\n",
       "      <th>210</th>\n",
       "      <td>iZombie</td>\n",
       "      <td>2020</td>\n",
       "      <td>2 days 03:22:59</td>\n",
       "    </tr>\n",
       "    <tr>\n",
       "      <th>211</th>\n",
       "      <td>iZombie</td>\n",
       "      <td>2021</td>\n",
       "      <td>0 days 07:13:28</td>\n",
       "    </tr>\n",
       "    <tr>\n",
       "      <th>212</th>\n",
       "      <td>iZombie</td>\n",
       "      <td>2022</td>\n",
       "      <td>2 days 02:08:51</td>\n",
       "    </tr>\n",
       "  </tbody>\n",
       "</table>\n",
       "<p>213 rows × 3 columns</p>\n",
       "</div>"
      ],
      "text/plain": [
       "              Title  Year        Duration\n",
       "0          (Un)Well  2020 0 days 02:51:02\n",
       "1    13 Reasons Why  2018 1 days 09:54:19\n",
       "2    13 Reasons Why  2019 0 days 03:24:37\n",
       "3    13 Reasons Why  2020 0 days 00:13:04\n",
       "4    13 Reasons Why  2021 0 days 06:05:30\n",
       "..              ...   ...             ...\n",
       "208         iZombie  2018 2 days 12:09:12\n",
       "209         iZombie  2019 0 days 10:15:11\n",
       "210         iZombie  2020 2 days 03:22:59\n",
       "211         iZombie  2021 0 days 07:13:28\n",
       "212         iZombie  2022 2 days 02:08:51\n",
       "\n",
       "[213 rows x 3 columns]"
      ]
     },
     "execution_count": 20,
     "metadata": {},
     "output_type": "execute_result"
    }
   ],
   "source": [
    "# Extract year from the 'Start Time' column\n",
    "tvshow_df['Year'] = tvshow_df['Start Time'].dt.year\n",
    "\n",
    "# Count occurrences of each TV show for each year\n",
    "# result = tvshow_df.groupby(['Title', 'Year']).size().reset_index()\n",
    "\n",
    "# Sum up duration of each TV show for each year\n",
    "result = tvshow_df.groupby(['Title', 'Year'])['Duration'].sum().reset_index()\n",
    "result"
   ]
  },
  {
   "cell_type": "code",
   "execution_count": 21,
   "id": "46159280",
   "metadata": {},
   "outputs": [],
   "source": [
    "top_15_tv_show_for_each_year = []\n",
    "\n",
    "## Extracting TOP 15 TV SHows for each year\n",
    "for year in result['Year'].unique():\n",
    "    result_year = result[result['Year'] == year].sort_values(by='Duration', ascending = False)[:15].reset_index()\n",
    "#     print('*'*50, '\\n', year,'\\n', result_year, '\\n')\n",
    "    top_15_tv_show_for_each_year.append(result_year) \n",
    "    \n",
    "# Concat the dataframes out of the list\n",
    "top_15_tv_show_for_each_year = pd.concat(top_15_tv_show_for_each_year, axis=0)\n",
    "\n",
    "# Ordering for the chart \n",
    "top_15_tv_show_for_each_year = top_15_tv_show_for_each_year.sort_values(by=['Year', 'Duration'], ascending=[True, False])\n"
   ]
  },
  {
   "cell_type": "code",
   "execution_count": 22,
   "id": "30600b06",
   "metadata": {},
   "outputs": [
    {
     "name": "stdout",
     "output_type": "stream",
     "text": [
      "Longest title length: 37\n"
     ]
    }
   ],
   "source": [
    "# Find the longest title\n",
    "longest_title_length = top_15_tv_show_for_each_year['Title'].apply(len).max()\n",
    "print(\"Longest title length:\", longest_title_length)\n"
   ]
  },
  {
   "cell_type": "code",
   "execution_count": 25,
   "id": "61d29e24",
   "metadata": {},
   "outputs": [
    {
     "data": {
      "application/vnd.plotly.v1+json": {
       "config": {
        "plotlyServerURL": "https://plot.ly"
       },
       "data": [
        {
         "alignmentgroup": "True",
         "hovertemplate": "Year=2018<br>Duration=%{x}<br>Title=%{y}<extra></extra>",
         "legendgroup": "",
         "marker": {
          "color": "#636efa",
          "pattern": {
           "shape": ""
          }
         },
         "name": "",
         "offsetgroup": "",
         "orientation": "h",
         "showlegend": false,
         "textposition": "auto",
         "type": "bar",
         "x": [
          391083000000000,
          245474000000000,
          224551000000000,
          216552000000000,
          202777000000000,
          192926000000000,
          177595000000000,
          176212000000000,
          122059000000000,
          115080000000000,
          84034000000000,
          81123000000000,
          57110000000000,
          44891000000000,
          40457000000000
         ],
         "xaxis": "x",
         "y": [
          "Gossip Girl",
          "Marvel's Jessica Jones",
          "Sons of Anarchy",
          "iZombie",
          "Brooklyn Nine-Nine",
          "Dynasty",
          "How to Get Away With Murder",
          "House of Cards",
          "13 Reasons Why",
          "Suits",
          "Mad Men",
          "Frontier",
          "Friends",
          "Don't Trust the B---- in Apartment 23",
          "Marvel's Luke Cage"
         ],
         "yaxis": "y"
        }
       ],
       "frames": [
        {
         "data": [
          {
           "alignmentgroup": "True",
           "hovertemplate": "Year=2018<br>Duration=%{x}<br>Title=%{y}<extra></extra>",
           "legendgroup": "",
           "marker": {
            "color": "#636efa",
            "pattern": {
             "shape": ""
            }
           },
           "name": "",
           "offsetgroup": "",
           "orientation": "h",
           "showlegend": false,
           "textposition": "auto",
           "type": "bar",
           "x": [
            391083000000000,
            245474000000000,
            224551000000000,
            216552000000000,
            202777000000000,
            192926000000000,
            177595000000000,
            176212000000000,
            122059000000000,
            115080000000000,
            84034000000000,
            81123000000000,
            57110000000000,
            44891000000000,
            40457000000000
           ],
           "xaxis": "x",
           "y": [
            "Gossip Girl",
            "Marvel's Jessica Jones",
            "Sons of Anarchy",
            "iZombie",
            "Brooklyn Nine-Nine",
            "Dynasty",
            "How to Get Away With Murder",
            "House of Cards",
            "13 Reasons Why",
            "Suits",
            "Mad Men",
            "Frontier",
            "Friends",
            "Don't Trust the B---- in Apartment 23",
            "Marvel's Luke Cage"
           ],
           "yaxis": "y"
          }
         ],
         "name": "2018"
        },
        {
         "data": [
          {
           "alignmentgroup": "True",
           "hovertemplate": "Year=2019<br>Duration=%{x}<br>Title=%{y}<extra></extra>",
           "legendgroup": "",
           "marker": {
            "color": "#636efa",
            "pattern": {
             "shape": ""
            }
           },
           "name": "",
           "offsetgroup": "",
           "orientation": "h",
           "showlegend": false,
           "textposition": "auto",
           "type": "bar",
           "x": [
            478694000000000,
            228203000000000,
            173769000000000,
            168986000000000,
            119979000000000,
            100204000000000,
            98371000000000,
            97921000000000,
            85085000000000,
            74320000000000,
            45434000000000,
            38189000000000,
            36911000000000,
            25001000000000,
            12277000000000
           ],
           "xaxis": "x",
           "y": [
            "The Vampire Diaries",
            "Brooklyn Nine-Nine",
            "How I Met Your Mother",
            "Gossip Girl",
            "You",
            "Dynasty",
            "Suits",
            "How to Get Away With Murder",
            "White Collar",
            "Marvel's Jessica Jones",
            "Sex Education",
            "Inside the Mind of a Serial Killer",
            "iZombie",
            "MINDHUNTER",
            "13 Reasons Why"
           ],
           "yaxis": "y"
          }
         ],
         "name": "2019"
        },
        {
         "data": [
          {
           "alignmentgroup": "True",
           "hovertemplate": "Year=2020<br>Duration=%{x}<br>Title=%{y}<extra></extra>",
           "legendgroup": "",
           "marker": {
            "color": "#636efa",
            "pattern": {
             "shape": ""
            }
           },
           "name": "",
           "offsetgroup": "",
           "orientation": "h",
           "showlegend": false,
           "textposition": "auto",
           "type": "bar",
           "x": [
            435759000000000,
            193258000000000,
            184979000000000,
            173321000000000,
            156949000000000,
            120618000000000,
            85952000000000,
            81710000000000,
            78161000000000,
            48029000000000,
            40367000000000,
            40154000000000,
            24921000000000,
            21197000000000,
            20489000000000
           ],
           "xaxis": "x",
           "y": [
            "How I Met Your Mother",
            "How to Get Away With Murder",
            "iZombie",
            "Riverdale",
            "Brooklyn Nine-Nine",
            "Once Upon a Time",
            "Good Girls",
            "Gossip Girl",
            "The Fall",
            "Love Is Blind",
            "Inside the World’s Toughest Prisons",
            "You",
            "Emily in Paris",
            "Bridgerton",
            "Daniel Sloss"
           ],
           "yaxis": "y"
          }
         ],
         "name": "2020"
        },
        {
         "data": [
          {
           "alignmentgroup": "True",
           "hovertemplate": "Year=2021<br>Duration=%{x}<br>Title=%{y}<extra></extra>",
           "legendgroup": "",
           "marker": {
            "color": "#636efa",
            "pattern": {
             "shape": ""
            }
           },
           "name": "",
           "offsetgroup": "",
           "orientation": "h",
           "showlegend": false,
           "textposition": "auto",
           "type": "bar",
           "x": [
            343577000000000,
            314068000000000,
            290989000000000,
            236205000000000,
            182404000000000,
            163921000000000,
            147197000000000,
            77587000000000,
            68515000000000,
            58403000000000,
            53242000000000,
            44403000000000,
            38188000000000,
            36469000000000,
            33000000000000
           ],
           "xaxis": "x",
           "y": [
            "Modern Family",
            "Suits",
            "The Vampire Diaries",
            "The Bold Type",
            "Good Girls",
            "How to Get Away With Murder",
            "How I Met Your Mother",
            "Riverdale",
            "Snowpiercer",
            "I AM A KILLER",
            "The Fall",
            "You",
            "The Witcher",
            "Sex Education",
            "Brooklyn Nine-Nine"
           ],
           "yaxis": "y"
          }
         ],
         "name": "2021"
        },
        {
         "data": [
          {
           "alignmentgroup": "True",
           "hovertemplate": "Year=2022<br>Duration=%{x}<br>Title=%{y}<extra></extra>",
           "legendgroup": "",
           "marker": {
            "color": "#636efa",
            "pattern": {
             "shape": ""
            }
           },
           "name": "",
           "offsetgroup": "",
           "orientation": "h",
           "showlegend": false,
           "textposition": "auto",
           "type": "bar",
           "x": [
            546550000000000,
            368191000000000,
            227205000000000,
            180531000000000,
            117064000000000,
            87376000000000,
            73235000000000,
            53323000000000,
            50175000000000,
            49016000000000,
            48518000000000,
            38170000000000,
            36998000000000,
            35608000000000,
            33133000000000
           ],
           "xaxis": "x",
           "y": [
            "The Vampire Diaries",
            "Suits",
            "Brooklyn Nine-Nine",
            "iZombie",
            "The Bold Type",
            "The Fall",
            "Love Is Blind",
            "Bridgerton",
            "Ozark",
            "Snowpiercer",
            "You",
            "Emily in Paris",
            "After Life",
            "Riverdale",
            "Too Hot to Handle"
           ],
           "yaxis": "y"
          }
         ],
         "name": "2022"
        },
        {
         "data": [
          {
           "alignmentgroup": "True",
           "hovertemplate": "Year=2023<br>Duration=%{x}<br>Title=%{y}<extra></extra>",
           "legendgroup": "",
           "marker": {
            "color": "#636efa",
            "pattern": {
             "shape": ""
            }
           },
           "name": "",
           "offsetgroup": "",
           "orientation": "h",
           "showlegend": false,
           "textposition": "auto",
           "type": "bar",
           "x": [
            344158000000000,
            333679000000000,
            304818000000000,
            233821000000000,
            222131000000000,
            175927000000000,
            164562000000000,
            150817000000000,
            79184000000000,
            71515000000000,
            65726000000000,
            63261000000000,
            49611000000000,
            48888000000000,
            41620000000000
           ],
           "xaxis": "x",
           "y": [
            "Suits",
            "Gossip Girl",
            "The Big Bang Theory",
            "Teen Wolf",
            "How to Get Away With Murder",
            "The Vampire Diaries",
            "Brooklyn Nine-Nine",
            "Ozark",
            "Love Is Blind",
            "The Ultimatum",
            "Peaky Blinders",
            "Cuckoo",
            "Killing Eve",
            "You",
            "I AM A KILLER"
           ],
           "yaxis": "y"
          }
         ],
         "name": "2023"
        },
        {
         "data": [
          {
           "alignmentgroup": "True",
           "hovertemplate": "Year=2024<br>Duration=%{x}<br>Title=%{y}<extra></extra>",
           "legendgroup": "",
           "marker": {
            "color": "#636efa",
            "pattern": {
             "shape": ""
            }
           },
           "name": "",
           "offsetgroup": "",
           "orientation": "h",
           "showlegend": false,
           "textposition": "auto",
           "type": "bar",
           "x": [
            272524000000000,
            15619000000000,
            11614000000000,
            9904000000000,
            4122000000000
           ],
           "xaxis": "x",
           "y": [
            "Gilmore Girls",
            "How to Get Away With Murder",
            "Brooklyn Nine-Nine",
            "Love Is Blind",
            "Berlin"
           ],
           "yaxis": "y"
          }
         ],
         "name": "2024"
        }
       ],
       "layout": {
        "barmode": "relative",
        "legend": {
         "tracegroupgap": 0
        },
        "sliders": [
         {
          "active": 0,
          "currentvalue": {
           "prefix": "Year="
          },
          "len": 0.9,
          "pad": {
           "b": 10,
           "t": 60
          },
          "steps": [
           {
            "args": [
             [
              "2018"
             ],
             {
              "frame": {
               "duration": 0,
               "redraw": true
              },
              "fromcurrent": true,
              "mode": "immediate",
              "transition": {
               "duration": 0,
               "easing": "linear"
              }
             }
            ],
            "label": "2018",
            "method": "animate"
           },
           {
            "args": [
             [
              "2019"
             ],
             {
              "frame": {
               "duration": 0,
               "redraw": true
              },
              "fromcurrent": true,
              "mode": "immediate",
              "transition": {
               "duration": 0,
               "easing": "linear"
              }
             }
            ],
            "label": "2019",
            "method": "animate"
           },
           {
            "args": [
             [
              "2020"
             ],
             {
              "frame": {
               "duration": 0,
               "redraw": true
              },
              "fromcurrent": true,
              "mode": "immediate",
              "transition": {
               "duration": 0,
               "easing": "linear"
              }
             }
            ],
            "label": "2020",
            "method": "animate"
           },
           {
            "args": [
             [
              "2021"
             ],
             {
              "frame": {
               "duration": 0,
               "redraw": true
              },
              "fromcurrent": true,
              "mode": "immediate",
              "transition": {
               "duration": 0,
               "easing": "linear"
              }
             }
            ],
            "label": "2021",
            "method": "animate"
           },
           {
            "args": [
             [
              "2022"
             ],
             {
              "frame": {
               "duration": 0,
               "redraw": true
              },
              "fromcurrent": true,
              "mode": "immediate",
              "transition": {
               "duration": 0,
               "easing": "linear"
              }
             }
            ],
            "label": "2022",
            "method": "animate"
           },
           {
            "args": [
             [
              "2023"
             ],
             {
              "frame": {
               "duration": 0,
               "redraw": true
              },
              "fromcurrent": true,
              "mode": "immediate",
              "transition": {
               "duration": 0,
               "easing": "linear"
              }
             }
            ],
            "label": "2023",
            "method": "animate"
           },
           {
            "args": [
             [
              "2024"
             ],
             {
              "frame": {
               "duration": 0,
               "redraw": true
              },
              "fromcurrent": true,
              "mode": "immediate",
              "transition": {
               "duration": 0,
               "easing": "linear"
              }
             }
            ],
            "label": "2024",
            "method": "animate"
           }
          ],
          "x": 0.1,
          "xanchor": "left",
          "y": 0,
          "yanchor": "top"
         }
        ],
        "template": {
         "data": {
          "bar": [
           {
            "error_x": {
             "color": "#2a3f5f"
            },
            "error_y": {
             "color": "#2a3f5f"
            },
            "marker": {
             "line": {
              "color": "#E5ECF6",
              "width": 0.5
             },
             "pattern": {
              "fillmode": "overlay",
              "size": 10,
              "solidity": 0.2
             }
            },
            "type": "bar"
           }
          ],
          "barpolar": [
           {
            "marker": {
             "line": {
              "color": "#E5ECF6",
              "width": 0.5
             },
             "pattern": {
              "fillmode": "overlay",
              "size": 10,
              "solidity": 0.2
             }
            },
            "type": "barpolar"
           }
          ],
          "carpet": [
           {
            "aaxis": {
             "endlinecolor": "#2a3f5f",
             "gridcolor": "white",
             "linecolor": "white",
             "minorgridcolor": "white",
             "startlinecolor": "#2a3f5f"
            },
            "baxis": {
             "endlinecolor": "#2a3f5f",
             "gridcolor": "white",
             "linecolor": "white",
             "minorgridcolor": "white",
             "startlinecolor": "#2a3f5f"
            },
            "type": "carpet"
           }
          ],
          "choropleth": [
           {
            "colorbar": {
             "outlinewidth": 0,
             "ticks": ""
            },
            "type": "choropleth"
           }
          ],
          "contour": [
           {
            "colorbar": {
             "outlinewidth": 0,
             "ticks": ""
            },
            "colorscale": [
             [
              0,
              "#0d0887"
             ],
             [
              0.1111111111111111,
              "#46039f"
             ],
             [
              0.2222222222222222,
              "#7201a8"
             ],
             [
              0.3333333333333333,
              "#9c179e"
             ],
             [
              0.4444444444444444,
              "#bd3786"
             ],
             [
              0.5555555555555556,
              "#d8576b"
             ],
             [
              0.6666666666666666,
              "#ed7953"
             ],
             [
              0.7777777777777778,
              "#fb9f3a"
             ],
             [
              0.8888888888888888,
              "#fdca26"
             ],
             [
              1,
              "#f0f921"
             ]
            ],
            "type": "contour"
           }
          ],
          "contourcarpet": [
           {
            "colorbar": {
             "outlinewidth": 0,
             "ticks": ""
            },
            "type": "contourcarpet"
           }
          ],
          "heatmap": [
           {
            "colorbar": {
             "outlinewidth": 0,
             "ticks": ""
            },
            "colorscale": [
             [
              0,
              "#0d0887"
             ],
             [
              0.1111111111111111,
              "#46039f"
             ],
             [
              0.2222222222222222,
              "#7201a8"
             ],
             [
              0.3333333333333333,
              "#9c179e"
             ],
             [
              0.4444444444444444,
              "#bd3786"
             ],
             [
              0.5555555555555556,
              "#d8576b"
             ],
             [
              0.6666666666666666,
              "#ed7953"
             ],
             [
              0.7777777777777778,
              "#fb9f3a"
             ],
             [
              0.8888888888888888,
              "#fdca26"
             ],
             [
              1,
              "#f0f921"
             ]
            ],
            "type": "heatmap"
           }
          ],
          "heatmapgl": [
           {
            "colorbar": {
             "outlinewidth": 0,
             "ticks": ""
            },
            "colorscale": [
             [
              0,
              "#0d0887"
             ],
             [
              0.1111111111111111,
              "#46039f"
             ],
             [
              0.2222222222222222,
              "#7201a8"
             ],
             [
              0.3333333333333333,
              "#9c179e"
             ],
             [
              0.4444444444444444,
              "#bd3786"
             ],
             [
              0.5555555555555556,
              "#d8576b"
             ],
             [
              0.6666666666666666,
              "#ed7953"
             ],
             [
              0.7777777777777778,
              "#fb9f3a"
             ],
             [
              0.8888888888888888,
              "#fdca26"
             ],
             [
              1,
              "#f0f921"
             ]
            ],
            "type": "heatmapgl"
           }
          ],
          "histogram": [
           {
            "marker": {
             "pattern": {
              "fillmode": "overlay",
              "size": 10,
              "solidity": 0.2
             }
            },
            "type": "histogram"
           }
          ],
          "histogram2d": [
           {
            "colorbar": {
             "outlinewidth": 0,
             "ticks": ""
            },
            "colorscale": [
             [
              0,
              "#0d0887"
             ],
             [
              0.1111111111111111,
              "#46039f"
             ],
             [
              0.2222222222222222,
              "#7201a8"
             ],
             [
              0.3333333333333333,
              "#9c179e"
             ],
             [
              0.4444444444444444,
              "#bd3786"
             ],
             [
              0.5555555555555556,
              "#d8576b"
             ],
             [
              0.6666666666666666,
              "#ed7953"
             ],
             [
              0.7777777777777778,
              "#fb9f3a"
             ],
             [
              0.8888888888888888,
              "#fdca26"
             ],
             [
              1,
              "#f0f921"
             ]
            ],
            "type": "histogram2d"
           }
          ],
          "histogram2dcontour": [
           {
            "colorbar": {
             "outlinewidth": 0,
             "ticks": ""
            },
            "colorscale": [
             [
              0,
              "#0d0887"
             ],
             [
              0.1111111111111111,
              "#46039f"
             ],
             [
              0.2222222222222222,
              "#7201a8"
             ],
             [
              0.3333333333333333,
              "#9c179e"
             ],
             [
              0.4444444444444444,
              "#bd3786"
             ],
             [
              0.5555555555555556,
              "#d8576b"
             ],
             [
              0.6666666666666666,
              "#ed7953"
             ],
             [
              0.7777777777777778,
              "#fb9f3a"
             ],
             [
              0.8888888888888888,
              "#fdca26"
             ],
             [
              1,
              "#f0f921"
             ]
            ],
            "type": "histogram2dcontour"
           }
          ],
          "mesh3d": [
           {
            "colorbar": {
             "outlinewidth": 0,
             "ticks": ""
            },
            "type": "mesh3d"
           }
          ],
          "parcoords": [
           {
            "line": {
             "colorbar": {
              "outlinewidth": 0,
              "ticks": ""
             }
            },
            "type": "parcoords"
           }
          ],
          "pie": [
           {
            "automargin": true,
            "type": "pie"
           }
          ],
          "scatter": [
           {
            "fillpattern": {
             "fillmode": "overlay",
             "size": 10,
             "solidity": 0.2
            },
            "type": "scatter"
           }
          ],
          "scatter3d": [
           {
            "line": {
             "colorbar": {
              "outlinewidth": 0,
              "ticks": ""
             }
            },
            "marker": {
             "colorbar": {
              "outlinewidth": 0,
              "ticks": ""
             }
            },
            "type": "scatter3d"
           }
          ],
          "scattercarpet": [
           {
            "marker": {
             "colorbar": {
              "outlinewidth": 0,
              "ticks": ""
             }
            },
            "type": "scattercarpet"
           }
          ],
          "scattergeo": [
           {
            "marker": {
             "colorbar": {
              "outlinewidth": 0,
              "ticks": ""
             }
            },
            "type": "scattergeo"
           }
          ],
          "scattergl": [
           {
            "marker": {
             "colorbar": {
              "outlinewidth": 0,
              "ticks": ""
             }
            },
            "type": "scattergl"
           }
          ],
          "scattermapbox": [
           {
            "marker": {
             "colorbar": {
              "outlinewidth": 0,
              "ticks": ""
             }
            },
            "type": "scattermapbox"
           }
          ],
          "scatterpolar": [
           {
            "marker": {
             "colorbar": {
              "outlinewidth": 0,
              "ticks": ""
             }
            },
            "type": "scatterpolar"
           }
          ],
          "scatterpolargl": [
           {
            "marker": {
             "colorbar": {
              "outlinewidth": 0,
              "ticks": ""
             }
            },
            "type": "scatterpolargl"
           }
          ],
          "scatterternary": [
           {
            "marker": {
             "colorbar": {
              "outlinewidth": 0,
              "ticks": ""
             }
            },
            "type": "scatterternary"
           }
          ],
          "surface": [
           {
            "colorbar": {
             "outlinewidth": 0,
             "ticks": ""
            },
            "colorscale": [
             [
              0,
              "#0d0887"
             ],
             [
              0.1111111111111111,
              "#46039f"
             ],
             [
              0.2222222222222222,
              "#7201a8"
             ],
             [
              0.3333333333333333,
              "#9c179e"
             ],
             [
              0.4444444444444444,
              "#bd3786"
             ],
             [
              0.5555555555555556,
              "#d8576b"
             ],
             [
              0.6666666666666666,
              "#ed7953"
             ],
             [
              0.7777777777777778,
              "#fb9f3a"
             ],
             [
              0.8888888888888888,
              "#fdca26"
             ],
             [
              1,
              "#f0f921"
             ]
            ],
            "type": "surface"
           }
          ],
          "table": [
           {
            "cells": {
             "fill": {
              "color": "#EBF0F8"
             },
             "line": {
              "color": "white"
             }
            },
            "header": {
             "fill": {
              "color": "#C8D4E3"
             },
             "line": {
              "color": "white"
             }
            },
            "type": "table"
           }
          ]
         },
         "layout": {
          "annotationdefaults": {
           "arrowcolor": "#2a3f5f",
           "arrowhead": 0,
           "arrowwidth": 1
          },
          "autotypenumbers": "strict",
          "coloraxis": {
           "colorbar": {
            "outlinewidth": 0,
            "ticks": ""
           }
          },
          "colorscale": {
           "diverging": [
            [
             0,
             "#8e0152"
            ],
            [
             0.1,
             "#c51b7d"
            ],
            [
             0.2,
             "#de77ae"
            ],
            [
             0.3,
             "#f1b6da"
            ],
            [
             0.4,
             "#fde0ef"
            ],
            [
             0.5,
             "#f7f7f7"
            ],
            [
             0.6,
             "#e6f5d0"
            ],
            [
             0.7,
             "#b8e186"
            ],
            [
             0.8,
             "#7fbc41"
            ],
            [
             0.9,
             "#4d9221"
            ],
            [
             1,
             "#276419"
            ]
           ],
           "sequential": [
            [
             0,
             "#0d0887"
            ],
            [
             0.1111111111111111,
             "#46039f"
            ],
            [
             0.2222222222222222,
             "#7201a8"
            ],
            [
             0.3333333333333333,
             "#9c179e"
            ],
            [
             0.4444444444444444,
             "#bd3786"
            ],
            [
             0.5555555555555556,
             "#d8576b"
            ],
            [
             0.6666666666666666,
             "#ed7953"
            ],
            [
             0.7777777777777778,
             "#fb9f3a"
            ],
            [
             0.8888888888888888,
             "#fdca26"
            ],
            [
             1,
             "#f0f921"
            ]
           ],
           "sequentialminus": [
            [
             0,
             "#0d0887"
            ],
            [
             0.1111111111111111,
             "#46039f"
            ],
            [
             0.2222222222222222,
             "#7201a8"
            ],
            [
             0.3333333333333333,
             "#9c179e"
            ],
            [
             0.4444444444444444,
             "#bd3786"
            ],
            [
             0.5555555555555556,
             "#d8576b"
            ],
            [
             0.6666666666666666,
             "#ed7953"
            ],
            [
             0.7777777777777778,
             "#fb9f3a"
            ],
            [
             0.8888888888888888,
             "#fdca26"
            ],
            [
             1,
             "#f0f921"
            ]
           ]
          },
          "colorway": [
           "#636efa",
           "#EF553B",
           "#00cc96",
           "#ab63fa",
           "#FFA15A",
           "#19d3f3",
           "#FF6692",
           "#B6E880",
           "#FF97FF",
           "#FECB52"
          ],
          "font": {
           "color": "#2a3f5f"
          },
          "geo": {
           "bgcolor": "white",
           "lakecolor": "white",
           "landcolor": "#E5ECF6",
           "showlakes": true,
           "showland": true,
           "subunitcolor": "white"
          },
          "hoverlabel": {
           "align": "left"
          },
          "hovermode": "closest",
          "mapbox": {
           "style": "light"
          },
          "paper_bgcolor": "white",
          "plot_bgcolor": "#E5ECF6",
          "polar": {
           "angularaxis": {
            "gridcolor": "white",
            "linecolor": "white",
            "ticks": ""
           },
           "bgcolor": "#E5ECF6",
           "radialaxis": {
            "gridcolor": "white",
            "linecolor": "white",
            "ticks": ""
           }
          },
          "scene": {
           "xaxis": {
            "backgroundcolor": "#E5ECF6",
            "gridcolor": "white",
            "gridwidth": 2,
            "linecolor": "white",
            "showbackground": true,
            "ticks": "",
            "zerolinecolor": "white"
           },
           "yaxis": {
            "backgroundcolor": "#E5ECF6",
            "gridcolor": "white",
            "gridwidth": 2,
            "linecolor": "white",
            "showbackground": true,
            "ticks": "",
            "zerolinecolor": "white"
           },
           "zaxis": {
            "backgroundcolor": "#E5ECF6",
            "gridcolor": "white",
            "gridwidth": 2,
            "linecolor": "white",
            "showbackground": true,
            "ticks": "",
            "zerolinecolor": "white"
           }
          },
          "shapedefaults": {
           "line": {
            "color": "#2a3f5f"
           }
          },
          "ternary": {
           "aaxis": {
            "gridcolor": "white",
            "linecolor": "white",
            "ticks": ""
           },
           "baxis": {
            "gridcolor": "white",
            "linecolor": "white",
            "ticks": ""
           },
           "bgcolor": "#E5ECF6",
           "caxis": {
            "gridcolor": "white",
            "linecolor": "white",
            "ticks": ""
           }
          },
          "title": {
           "x": 0.05
          },
          "xaxis": {
           "automargin": true,
           "gridcolor": "white",
           "linecolor": "white",
           "ticks": "",
           "title": {
            "standoff": 15
           },
           "zerolinecolor": "white",
           "zerolinewidth": 2
          },
          "yaxis": {
           "automargin": true,
           "gridcolor": "white",
           "linecolor": "white",
           "ticks": "",
           "title": {
            "standoff": 15
           },
           "zerolinecolor": "white",
           "zerolinewidth": 2
          }
         }
        },
        "title": {
         "text": "How has my viewings changed? "
        },
        "updatemenus": [
         {
          "buttons": [
           {
            "args": [
             null,
             {
              "frame": {
               "duration": 2000,
               "redraw": true
              },
              "fromcurrent": true,
              "mode": "immediate",
              "transition": {
               "duration": 500,
               "easing": "linear"
              }
             }
            ],
            "label": "&#9654;",
            "method": "animate"
           },
           {
            "args": [
             [
              null
             ],
             {
              "frame": {
               "duration": 0,
               "redraw": true
              },
              "fromcurrent": true,
              "mode": "immediate",
              "transition": {
               "duration": 0,
               "easing": "linear"
              }
             }
            ],
            "label": "&#9724;",
            "method": "animate"
           }
          ],
          "direction": "left",
          "pad": {
           "r": 10,
           "t": 70
          },
          "showactive": false,
          "type": "buttons",
          "x": 0.1,
          "xanchor": "right",
          "y": 0,
          "yanchor": "top"
         }
        ],
        "xaxis": {
         "anchor": "y",
         "domain": [
          0,
          1
         ],
         "range": [
          0,
          "P6DT7H49M10S"
         ],
         "title": {
          "text": "Duration"
         }
        },
        "yaxis": {
         "anchor": "x",
         "domain": [
          0,
          1
         ],
         "title": {
          "text": "Title"
         }
        }
       }
      },
      "text/html": [
       "<div>                            <div id=\"7410bb3e-0b61-489d-af55-2089ff96c4c9\" class=\"plotly-graph-div\" style=\"height:525px; width:100%;\"></div>            <script type=\"text/javascript\">                require([\"plotly\"], function(Plotly) {                    window.PLOTLYENV=window.PLOTLYENV || {};                                    if (document.getElementById(\"7410bb3e-0b61-489d-af55-2089ff96c4c9\")) {                    Plotly.newPlot(                        \"7410bb3e-0b61-489d-af55-2089ff96c4c9\",                        [{\"alignmentgroup\":\"True\",\"hovertemplate\":\"Year=2018<br>Duration=%{x}<br>Title=%{y}<extra></extra>\",\"legendgroup\":\"\",\"marker\":{\"color\":\"#636efa\",\"pattern\":{\"shape\":\"\"}},\"name\":\"\",\"offsetgroup\":\"\",\"orientation\":\"h\",\"showlegend\":false,\"textposition\":\"auto\",\"x\":[391083000000000,245474000000000,224551000000000,216552000000000,202777000000000,192926000000000,177595000000000,176212000000000,122059000000000,115080000000000,84034000000000,81123000000000,57110000000000,44891000000000,40457000000000],\"xaxis\":\"x\",\"y\":[\"Gossip Girl\",\"Marvel's Jessica Jones\",\"Sons of Anarchy\",\"iZombie\",\"Brooklyn Nine-Nine\",\"Dynasty\",\"How to Get Away With Murder\",\"House of Cards\",\"13 Reasons Why\",\"Suits\",\"Mad Men\",\"Frontier\",\"Friends\",\"Don't Trust the B---- in Apartment 23\",\"Marvel's Luke Cage\"],\"yaxis\":\"y\",\"type\":\"bar\"}],                        {\"template\":{\"data\":{\"histogram2dcontour\":[{\"type\":\"histogram2dcontour\",\"colorbar\":{\"outlinewidth\":0,\"ticks\":\"\"},\"colorscale\":[[0.0,\"#0d0887\"],[0.1111111111111111,\"#46039f\"],[0.2222222222222222,\"#7201a8\"],[0.3333333333333333,\"#9c179e\"],[0.4444444444444444,\"#bd3786\"],[0.5555555555555556,\"#d8576b\"],[0.6666666666666666,\"#ed7953\"],[0.7777777777777778,\"#fb9f3a\"],[0.8888888888888888,\"#fdca26\"],[1.0,\"#f0f921\"]]}],\"choropleth\":[{\"type\":\"choropleth\",\"colorbar\":{\"outlinewidth\":0,\"ticks\":\"\"}}],\"histogram2d\":[{\"type\":\"histogram2d\",\"colorbar\":{\"outlinewidth\":0,\"ticks\":\"\"},\"colorscale\":[[0.0,\"#0d0887\"],[0.1111111111111111,\"#46039f\"],[0.2222222222222222,\"#7201a8\"],[0.3333333333333333,\"#9c179e\"],[0.4444444444444444,\"#bd3786\"],[0.5555555555555556,\"#d8576b\"],[0.6666666666666666,\"#ed7953\"],[0.7777777777777778,\"#fb9f3a\"],[0.8888888888888888,\"#fdca26\"],[1.0,\"#f0f921\"]]}],\"heatmap\":[{\"type\":\"heatmap\",\"colorbar\":{\"outlinewidth\":0,\"ticks\":\"\"},\"colorscale\":[[0.0,\"#0d0887\"],[0.1111111111111111,\"#46039f\"],[0.2222222222222222,\"#7201a8\"],[0.3333333333333333,\"#9c179e\"],[0.4444444444444444,\"#bd3786\"],[0.5555555555555556,\"#d8576b\"],[0.6666666666666666,\"#ed7953\"],[0.7777777777777778,\"#fb9f3a\"],[0.8888888888888888,\"#fdca26\"],[1.0,\"#f0f921\"]]}],\"heatmapgl\":[{\"type\":\"heatmapgl\",\"colorbar\":{\"outlinewidth\":0,\"ticks\":\"\"},\"colorscale\":[[0.0,\"#0d0887\"],[0.1111111111111111,\"#46039f\"],[0.2222222222222222,\"#7201a8\"],[0.3333333333333333,\"#9c179e\"],[0.4444444444444444,\"#bd3786\"],[0.5555555555555556,\"#d8576b\"],[0.6666666666666666,\"#ed7953\"],[0.7777777777777778,\"#fb9f3a\"],[0.8888888888888888,\"#fdca26\"],[1.0,\"#f0f921\"]]}],\"contourcarpet\":[{\"type\":\"contourcarpet\",\"colorbar\":{\"outlinewidth\":0,\"ticks\":\"\"}}],\"contour\":[{\"type\":\"contour\",\"colorbar\":{\"outlinewidth\":0,\"ticks\":\"\"},\"colorscale\":[[0.0,\"#0d0887\"],[0.1111111111111111,\"#46039f\"],[0.2222222222222222,\"#7201a8\"],[0.3333333333333333,\"#9c179e\"],[0.4444444444444444,\"#bd3786\"],[0.5555555555555556,\"#d8576b\"],[0.6666666666666666,\"#ed7953\"],[0.7777777777777778,\"#fb9f3a\"],[0.8888888888888888,\"#fdca26\"],[1.0,\"#f0f921\"]]}],\"surface\":[{\"type\":\"surface\",\"colorbar\":{\"outlinewidth\":0,\"ticks\":\"\"},\"colorscale\":[[0.0,\"#0d0887\"],[0.1111111111111111,\"#46039f\"],[0.2222222222222222,\"#7201a8\"],[0.3333333333333333,\"#9c179e\"],[0.4444444444444444,\"#bd3786\"],[0.5555555555555556,\"#d8576b\"],[0.6666666666666666,\"#ed7953\"],[0.7777777777777778,\"#fb9f3a\"],[0.8888888888888888,\"#fdca26\"],[1.0,\"#f0f921\"]]}],\"mesh3d\":[{\"type\":\"mesh3d\",\"colorbar\":{\"outlinewidth\":0,\"ticks\":\"\"}}],\"scatter\":[{\"fillpattern\":{\"fillmode\":\"overlay\",\"size\":10,\"solidity\":0.2},\"type\":\"scatter\"}],\"parcoords\":[{\"type\":\"parcoords\",\"line\":{\"colorbar\":{\"outlinewidth\":0,\"ticks\":\"\"}}}],\"scatterpolargl\":[{\"type\":\"scatterpolargl\",\"marker\":{\"colorbar\":{\"outlinewidth\":0,\"ticks\":\"\"}}}],\"bar\":[{\"error_x\":{\"color\":\"#2a3f5f\"},\"error_y\":{\"color\":\"#2a3f5f\"},\"marker\":{\"line\":{\"color\":\"#E5ECF6\",\"width\":0.5},\"pattern\":{\"fillmode\":\"overlay\",\"size\":10,\"solidity\":0.2}},\"type\":\"bar\"}],\"scattergeo\":[{\"type\":\"scattergeo\",\"marker\":{\"colorbar\":{\"outlinewidth\":0,\"ticks\":\"\"}}}],\"scatterpolar\":[{\"type\":\"scatterpolar\",\"marker\":{\"colorbar\":{\"outlinewidth\":0,\"ticks\":\"\"}}}],\"histogram\":[{\"marker\":{\"pattern\":{\"fillmode\":\"overlay\",\"size\":10,\"solidity\":0.2}},\"type\":\"histogram\"}],\"scattergl\":[{\"type\":\"scattergl\",\"marker\":{\"colorbar\":{\"outlinewidth\":0,\"ticks\":\"\"}}}],\"scatter3d\":[{\"type\":\"scatter3d\",\"line\":{\"colorbar\":{\"outlinewidth\":0,\"ticks\":\"\"}},\"marker\":{\"colorbar\":{\"outlinewidth\":0,\"ticks\":\"\"}}}],\"scattermapbox\":[{\"type\":\"scattermapbox\",\"marker\":{\"colorbar\":{\"outlinewidth\":0,\"ticks\":\"\"}}}],\"scatterternary\":[{\"type\":\"scatterternary\",\"marker\":{\"colorbar\":{\"outlinewidth\":0,\"ticks\":\"\"}}}],\"scattercarpet\":[{\"type\":\"scattercarpet\",\"marker\":{\"colorbar\":{\"outlinewidth\":0,\"ticks\":\"\"}}}],\"carpet\":[{\"aaxis\":{\"endlinecolor\":\"#2a3f5f\",\"gridcolor\":\"white\",\"linecolor\":\"white\",\"minorgridcolor\":\"white\",\"startlinecolor\":\"#2a3f5f\"},\"baxis\":{\"endlinecolor\":\"#2a3f5f\",\"gridcolor\":\"white\",\"linecolor\":\"white\",\"minorgridcolor\":\"white\",\"startlinecolor\":\"#2a3f5f\"},\"type\":\"carpet\"}],\"table\":[{\"cells\":{\"fill\":{\"color\":\"#EBF0F8\"},\"line\":{\"color\":\"white\"}},\"header\":{\"fill\":{\"color\":\"#C8D4E3\"},\"line\":{\"color\":\"white\"}},\"type\":\"table\"}],\"barpolar\":[{\"marker\":{\"line\":{\"color\":\"#E5ECF6\",\"width\":0.5},\"pattern\":{\"fillmode\":\"overlay\",\"size\":10,\"solidity\":0.2}},\"type\":\"barpolar\"}],\"pie\":[{\"automargin\":true,\"type\":\"pie\"}]},\"layout\":{\"autotypenumbers\":\"strict\",\"colorway\":[\"#636efa\",\"#EF553B\",\"#00cc96\",\"#ab63fa\",\"#FFA15A\",\"#19d3f3\",\"#FF6692\",\"#B6E880\",\"#FF97FF\",\"#FECB52\"],\"font\":{\"color\":\"#2a3f5f\"},\"hovermode\":\"closest\",\"hoverlabel\":{\"align\":\"left\"},\"paper_bgcolor\":\"white\",\"plot_bgcolor\":\"#E5ECF6\",\"polar\":{\"bgcolor\":\"#E5ECF6\",\"angularaxis\":{\"gridcolor\":\"white\",\"linecolor\":\"white\",\"ticks\":\"\"},\"radialaxis\":{\"gridcolor\":\"white\",\"linecolor\":\"white\",\"ticks\":\"\"}},\"ternary\":{\"bgcolor\":\"#E5ECF6\",\"aaxis\":{\"gridcolor\":\"white\",\"linecolor\":\"white\",\"ticks\":\"\"},\"baxis\":{\"gridcolor\":\"white\",\"linecolor\":\"white\",\"ticks\":\"\"},\"caxis\":{\"gridcolor\":\"white\",\"linecolor\":\"white\",\"ticks\":\"\"}},\"coloraxis\":{\"colorbar\":{\"outlinewidth\":0,\"ticks\":\"\"}},\"colorscale\":{\"sequential\":[[0.0,\"#0d0887\"],[0.1111111111111111,\"#46039f\"],[0.2222222222222222,\"#7201a8\"],[0.3333333333333333,\"#9c179e\"],[0.4444444444444444,\"#bd3786\"],[0.5555555555555556,\"#d8576b\"],[0.6666666666666666,\"#ed7953\"],[0.7777777777777778,\"#fb9f3a\"],[0.8888888888888888,\"#fdca26\"],[1.0,\"#f0f921\"]],\"sequentialminus\":[[0.0,\"#0d0887\"],[0.1111111111111111,\"#46039f\"],[0.2222222222222222,\"#7201a8\"],[0.3333333333333333,\"#9c179e\"],[0.4444444444444444,\"#bd3786\"],[0.5555555555555556,\"#d8576b\"],[0.6666666666666666,\"#ed7953\"],[0.7777777777777778,\"#fb9f3a\"],[0.8888888888888888,\"#fdca26\"],[1.0,\"#f0f921\"]],\"diverging\":[[0,\"#8e0152\"],[0.1,\"#c51b7d\"],[0.2,\"#de77ae\"],[0.3,\"#f1b6da\"],[0.4,\"#fde0ef\"],[0.5,\"#f7f7f7\"],[0.6,\"#e6f5d0\"],[0.7,\"#b8e186\"],[0.8,\"#7fbc41\"],[0.9,\"#4d9221\"],[1,\"#276419\"]]},\"xaxis\":{\"gridcolor\":\"white\",\"linecolor\":\"white\",\"ticks\":\"\",\"title\":{\"standoff\":15},\"zerolinecolor\":\"white\",\"automargin\":true,\"zerolinewidth\":2},\"yaxis\":{\"gridcolor\":\"white\",\"linecolor\":\"white\",\"ticks\":\"\",\"title\":{\"standoff\":15},\"zerolinecolor\":\"white\",\"automargin\":true,\"zerolinewidth\":2},\"scene\":{\"xaxis\":{\"backgroundcolor\":\"#E5ECF6\",\"gridcolor\":\"white\",\"linecolor\":\"white\",\"showbackground\":true,\"ticks\":\"\",\"zerolinecolor\":\"white\",\"gridwidth\":2},\"yaxis\":{\"backgroundcolor\":\"#E5ECF6\",\"gridcolor\":\"white\",\"linecolor\":\"white\",\"showbackground\":true,\"ticks\":\"\",\"zerolinecolor\":\"white\",\"gridwidth\":2},\"zaxis\":{\"backgroundcolor\":\"#E5ECF6\",\"gridcolor\":\"white\",\"linecolor\":\"white\",\"showbackground\":true,\"ticks\":\"\",\"zerolinecolor\":\"white\",\"gridwidth\":2}},\"shapedefaults\":{\"line\":{\"color\":\"#2a3f5f\"}},\"annotationdefaults\":{\"arrowcolor\":\"#2a3f5f\",\"arrowhead\":0,\"arrowwidth\":1},\"geo\":{\"bgcolor\":\"white\",\"landcolor\":\"#E5ECF6\",\"subunitcolor\":\"white\",\"showland\":true,\"showlakes\":true,\"lakecolor\":\"white\"},\"title\":{\"x\":0.05},\"mapbox\":{\"style\":\"light\"}}},\"xaxis\":{\"anchor\":\"y\",\"domain\":[0.0,1.0],\"title\":{\"text\":\"Duration\"},\"range\":[0,\"P6DT7H49M10S\"]},\"yaxis\":{\"anchor\":\"x\",\"domain\":[0.0,1.0],\"title\":{\"text\":\"Title\"}},\"legend\":{\"tracegroupgap\":0},\"title\":{\"text\":\"How has my viewings changed? \"},\"barmode\":\"relative\",\"updatemenus\":[{\"buttons\":[{\"args\":[null,{\"frame\":{\"duration\":2000,\"redraw\":true},\"mode\":\"immediate\",\"fromcurrent\":true,\"transition\":{\"duration\":500,\"easing\":\"linear\"}}],\"label\":\"&#9654;\",\"method\":\"animate\"},{\"args\":[[null],{\"frame\":{\"duration\":0,\"redraw\":true},\"mode\":\"immediate\",\"fromcurrent\":true,\"transition\":{\"duration\":0,\"easing\":\"linear\"}}],\"label\":\"&#9724;\",\"method\":\"animate\"}],\"direction\":\"left\",\"pad\":{\"r\":10,\"t\":70},\"showactive\":false,\"type\":\"buttons\",\"x\":0.1,\"xanchor\":\"right\",\"y\":0,\"yanchor\":\"top\"}],\"sliders\":[{\"active\":0,\"currentvalue\":{\"prefix\":\"Year=\"},\"len\":0.9,\"pad\":{\"b\":10,\"t\":60},\"steps\":[{\"args\":[[\"2018\"],{\"frame\":{\"duration\":0,\"redraw\":true},\"mode\":\"immediate\",\"fromcurrent\":true,\"transition\":{\"duration\":0,\"easing\":\"linear\"}}],\"label\":\"2018\",\"method\":\"animate\"},{\"args\":[[\"2019\"],{\"frame\":{\"duration\":0,\"redraw\":true},\"mode\":\"immediate\",\"fromcurrent\":true,\"transition\":{\"duration\":0,\"easing\":\"linear\"}}],\"label\":\"2019\",\"method\":\"animate\"},{\"args\":[[\"2020\"],{\"frame\":{\"duration\":0,\"redraw\":true},\"mode\":\"immediate\",\"fromcurrent\":true,\"transition\":{\"duration\":0,\"easing\":\"linear\"}}],\"label\":\"2020\",\"method\":\"animate\"},{\"args\":[[\"2021\"],{\"frame\":{\"duration\":0,\"redraw\":true},\"mode\":\"immediate\",\"fromcurrent\":true,\"transition\":{\"duration\":0,\"easing\":\"linear\"}}],\"label\":\"2021\",\"method\":\"animate\"},{\"args\":[[\"2022\"],{\"frame\":{\"duration\":0,\"redraw\":true},\"mode\":\"immediate\",\"fromcurrent\":true,\"transition\":{\"duration\":0,\"easing\":\"linear\"}}],\"label\":\"2022\",\"method\":\"animate\"},{\"args\":[[\"2023\"],{\"frame\":{\"duration\":0,\"redraw\":true},\"mode\":\"immediate\",\"fromcurrent\":true,\"transition\":{\"duration\":0,\"easing\":\"linear\"}}],\"label\":\"2023\",\"method\":\"animate\"},{\"args\":[[\"2024\"],{\"frame\":{\"duration\":0,\"redraw\":true},\"mode\":\"immediate\",\"fromcurrent\":true,\"transition\":{\"duration\":0,\"easing\":\"linear\"}}],\"label\":\"2024\",\"method\":\"animate\"}],\"x\":0.1,\"xanchor\":\"left\",\"y\":0,\"yanchor\":\"top\"}]},                        {\"responsive\": true}                    ).then(function(){\n",
       "                            Plotly.addFrames('7410bb3e-0b61-489d-af55-2089ff96c4c9', [{\"data\":[{\"alignmentgroup\":\"True\",\"hovertemplate\":\"Year=2018<br>Duration=%{x}<br>Title=%{y}<extra></extra>\",\"legendgroup\":\"\",\"marker\":{\"color\":\"#636efa\",\"pattern\":{\"shape\":\"\"}},\"name\":\"\",\"offsetgroup\":\"\",\"orientation\":\"h\",\"showlegend\":false,\"textposition\":\"auto\",\"x\":[391083000000000,245474000000000,224551000000000,216552000000000,202777000000000,192926000000000,177595000000000,176212000000000,122059000000000,115080000000000,84034000000000,81123000000000,57110000000000,44891000000000,40457000000000],\"xaxis\":\"x\",\"y\":[\"Gossip Girl\",\"Marvel's Jessica Jones\",\"Sons of Anarchy\",\"iZombie\",\"Brooklyn Nine-Nine\",\"Dynasty\",\"How to Get Away With Murder\",\"House of Cards\",\"13 Reasons Why\",\"Suits\",\"Mad Men\",\"Frontier\",\"Friends\",\"Don't Trust the B---- in Apartment 23\",\"Marvel's Luke Cage\"],\"yaxis\":\"y\",\"type\":\"bar\"}],\"name\":\"2018\"},{\"data\":[{\"alignmentgroup\":\"True\",\"hovertemplate\":\"Year=2019<br>Duration=%{x}<br>Title=%{y}<extra></extra>\",\"legendgroup\":\"\",\"marker\":{\"color\":\"#636efa\",\"pattern\":{\"shape\":\"\"}},\"name\":\"\",\"offsetgroup\":\"\",\"orientation\":\"h\",\"showlegend\":false,\"textposition\":\"auto\",\"x\":[478694000000000,228203000000000,173769000000000,168986000000000,119979000000000,100204000000000,98371000000000,97921000000000,85085000000000,74320000000000,45434000000000,38189000000000,36911000000000,25001000000000,12277000000000],\"xaxis\":\"x\",\"y\":[\"The Vampire Diaries\",\"Brooklyn Nine-Nine\",\"How I Met Your Mother\",\"Gossip Girl\",\"You\",\"Dynasty\",\"Suits\",\"How to Get Away With Murder\",\"White Collar\",\"Marvel's Jessica Jones\",\"Sex Education\",\"Inside the Mind of a Serial Killer\",\"iZombie\",\"MINDHUNTER\",\"13 Reasons Why\"],\"yaxis\":\"y\",\"type\":\"bar\"}],\"name\":\"2019\"},{\"data\":[{\"alignmentgroup\":\"True\",\"hovertemplate\":\"Year=2020<br>Duration=%{x}<br>Title=%{y}<extra></extra>\",\"legendgroup\":\"\",\"marker\":{\"color\":\"#636efa\",\"pattern\":{\"shape\":\"\"}},\"name\":\"\",\"offsetgroup\":\"\",\"orientation\":\"h\",\"showlegend\":false,\"textposition\":\"auto\",\"x\":[435759000000000,193258000000000,184979000000000,173321000000000,156949000000000,120618000000000,85952000000000,81710000000000,78161000000000,48029000000000,40367000000000,40154000000000,24921000000000,21197000000000,20489000000000],\"xaxis\":\"x\",\"y\":[\"How I Met Your Mother\",\"How to Get Away With Murder\",\"iZombie\",\"Riverdale\",\"Brooklyn Nine-Nine\",\"Once Upon a Time\",\"Good Girls\",\"Gossip Girl\",\"The Fall\",\"Love Is Blind\",\"Inside the World\\u2019s Toughest Prisons\",\"You\",\"Emily in Paris\",\"Bridgerton\",\"Daniel Sloss\"],\"yaxis\":\"y\",\"type\":\"bar\"}],\"name\":\"2020\"},{\"data\":[{\"alignmentgroup\":\"True\",\"hovertemplate\":\"Year=2021<br>Duration=%{x}<br>Title=%{y}<extra></extra>\",\"legendgroup\":\"\",\"marker\":{\"color\":\"#636efa\",\"pattern\":{\"shape\":\"\"}},\"name\":\"\",\"offsetgroup\":\"\",\"orientation\":\"h\",\"showlegend\":false,\"textposition\":\"auto\",\"x\":[343577000000000,314068000000000,290989000000000,236205000000000,182404000000000,163921000000000,147197000000000,77587000000000,68515000000000,58403000000000,53242000000000,44403000000000,38188000000000,36469000000000,33000000000000],\"xaxis\":\"x\",\"y\":[\"Modern Family\",\"Suits\",\"The Vampire Diaries\",\"The Bold Type\",\"Good Girls\",\"How to Get Away With Murder\",\"How I Met Your Mother\",\"Riverdale\",\"Snowpiercer\",\"I AM A KILLER\",\"The Fall\",\"You\",\"The Witcher\",\"Sex Education\",\"Brooklyn Nine-Nine\"],\"yaxis\":\"y\",\"type\":\"bar\"}],\"name\":\"2021\"},{\"data\":[{\"alignmentgroup\":\"True\",\"hovertemplate\":\"Year=2022<br>Duration=%{x}<br>Title=%{y}<extra></extra>\",\"legendgroup\":\"\",\"marker\":{\"color\":\"#636efa\",\"pattern\":{\"shape\":\"\"}},\"name\":\"\",\"offsetgroup\":\"\",\"orientation\":\"h\",\"showlegend\":false,\"textposition\":\"auto\",\"x\":[546550000000000,368191000000000,227205000000000,180531000000000,117064000000000,87376000000000,73235000000000,53323000000000,50175000000000,49016000000000,48518000000000,38170000000000,36998000000000,35608000000000,33133000000000],\"xaxis\":\"x\",\"y\":[\"The Vampire Diaries\",\"Suits\",\"Brooklyn Nine-Nine\",\"iZombie\",\"The Bold Type\",\"The Fall\",\"Love Is Blind\",\"Bridgerton\",\"Ozark\",\"Snowpiercer\",\"You\",\"Emily in Paris\",\"After Life\",\"Riverdale\",\"Too Hot to Handle\"],\"yaxis\":\"y\",\"type\":\"bar\"}],\"name\":\"2022\"},{\"data\":[{\"alignmentgroup\":\"True\",\"hovertemplate\":\"Year=2023<br>Duration=%{x}<br>Title=%{y}<extra></extra>\",\"legendgroup\":\"\",\"marker\":{\"color\":\"#636efa\",\"pattern\":{\"shape\":\"\"}},\"name\":\"\",\"offsetgroup\":\"\",\"orientation\":\"h\",\"showlegend\":false,\"textposition\":\"auto\",\"x\":[344158000000000,333679000000000,304818000000000,233821000000000,222131000000000,175927000000000,164562000000000,150817000000000,79184000000000,71515000000000,65726000000000,63261000000000,49611000000000,48888000000000,41620000000000],\"xaxis\":\"x\",\"y\":[\"Suits\",\"Gossip Girl\",\"The Big Bang Theory\",\"Teen Wolf\",\"How to Get Away With Murder\",\"The Vampire Diaries\",\"Brooklyn Nine-Nine\",\"Ozark\",\"Love Is Blind\",\"The Ultimatum\",\"Peaky Blinders\",\"Cuckoo\",\"Killing Eve\",\"You\",\"I AM A KILLER\"],\"yaxis\":\"y\",\"type\":\"bar\"}],\"name\":\"2023\"},{\"data\":[{\"alignmentgroup\":\"True\",\"hovertemplate\":\"Year=2024<br>Duration=%{x}<br>Title=%{y}<extra></extra>\",\"legendgroup\":\"\",\"marker\":{\"color\":\"#636efa\",\"pattern\":{\"shape\":\"\"}},\"name\":\"\",\"offsetgroup\":\"\",\"orientation\":\"h\",\"showlegend\":false,\"textposition\":\"auto\",\"x\":[272524000000000,15619000000000,11614000000000,9904000000000,4122000000000],\"xaxis\":\"x\",\"y\":[\"Gilmore Girls\",\"How to Get Away With Murder\",\"Brooklyn Nine-Nine\",\"Love Is Blind\",\"Berlin\"],\"yaxis\":\"y\",\"type\":\"bar\"}],\"name\":\"2024\"}]);\n",
       "                        }).then(function(){\n",
       "                            \n",
       "var gd = document.getElementById('7410bb3e-0b61-489d-af55-2089ff96c4c9');\n",
       "var x = new MutationObserver(function (mutations, observer) {{\n",
       "        var display = window.getComputedStyle(gd).display;\n",
       "        if (!display || display === 'none') {{\n",
       "            console.log([gd, 'removed!']);\n",
       "            Plotly.purge(gd);\n",
       "            observer.disconnect();\n",
       "        }}\n",
       "}});\n",
       "\n",
       "// Listen for the removal of the full notebook cells\n",
       "var notebookContainer = gd.closest('#notebook-container');\n",
       "if (notebookContainer) {{\n",
       "    x.observe(notebookContainer, {childList: true});\n",
       "}}\n",
       "\n",
       "// Listen for the clearing of the current output cell\n",
       "var outputEl = gd.closest('.output');\n",
       "if (outputEl) {{\n",
       "    x.observe(outputEl, {childList: true});\n",
       "}}\n",
       "\n",
       "                        })                };                });            </script>        </div>"
      ]
     },
     "metadata": {},
     "output_type": "display_data"
    }
   ],
   "source": [
    "max_title_count = top_15_tv_show_for_each_year['Duration'].max()\n",
    "\n",
    "\n",
    "fig = px.bar(top_15_tv_show_for_each_year, \n",
    "             y = \"Title\", \n",
    "             x = \"Duration\", \n",
    "#              color_discrete_sequence=[\"#EF553B\"],\n",
    "             animation_frame=\"Year\",\n",
    "#                           animation_group=\"Year\", \n",
    "             orientation='h', # Set orientation to vertical\n",
    "\n",
    "             range_x=[0, max_title_count],\n",
    "#              range_y=[0, longest_title_length],\n",
    "             labels={\"y\": \"Title\", \"x\": \"Duration\"},\n",
    "             title=\"How has my viewings changed? \",\n",
    "             \n",
    "#             category_orders={\"Year\": top_15_tv_show_for_each_year['Year'].unique() }\n",
    "            )\n",
    "\n",
    "# Set the frame duration to 1000 milliseconds (1 second) per frame for slower animation\n",
    "fig.layout.updatemenus[0].buttons[0].args[1]['frame']['duration'] = 2000\n",
    "\n",
    "\n",
    "\n",
    "fig.show()\n"
   ]
  },
  {
   "cell_type": "code",
   "execution_count": 26,
   "id": "a53d33e3",
   "metadata": {},
   "outputs": [],
   "source": [
    "df.to_csv('Karina_viewings.csv')"
   ]
  }
 ],
 "metadata": {
  "kernelspec": {
   "display_name": "Python 3 (ipykernel)",
   "language": "python",
   "name": "python3"
  },
  "language_info": {
   "codemirror_mode": {
    "name": "ipython",
    "version": 3
   },
   "file_extension": ".py",
   "mimetype": "text/x-python",
   "name": "python",
   "nbconvert_exporter": "python",
   "pygments_lexer": "ipython3",
   "version": "3.9.13"
  }
 },
 "nbformat": 4,
 "nbformat_minor": 5
}
